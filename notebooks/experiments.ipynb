{
 "cells": [
  {
   "cell_type": "markdown",
   "metadata": {
    "pycharm": {
     "name": "#%% md\n"
    }
   },
   "source": [
    "# Run experiments"
   ]
  },
  {
   "cell_type": "markdown",
   "metadata": {
    "collapsed": false,
    "pycharm": {
     "name": "#%% md\n"
    }
   },
   "source": [
    "### Load packages"
   ]
  },
  {
   "cell_type": "code",
   "execution_count": 1,
   "metadata": {},
   "outputs": [],
   "source": [
    "import sys\n",
    "import os\n",
    "\n",
    "# Get the parent directory (models) and add it to sys.path\n",
    "sys.path.append(os.path.abspath(os.path.join(os.getcwd(), \"..\")))"
   ]
  },
  {
   "cell_type": "code",
   "execution_count": 2,
   "metadata": {
    "collapsed": false,
    "pycharm": {
     "name": "#%%\n"
    }
   },
   "outputs": [],
   "source": [
    "import numpy as np\n",
    "# from qiskit import IBMQ\n",
    "from qiskit_ibm_runtime import QiskitRuntimeService\n",
    "from qiskit_ibm_runtime.fake_provider import FakeManilaV2\n",
    "from qiskit_aer import Aer\n",
    "\n",
    "from src.analysis.analysis import run_circuits, analyze_results, ExperimentConfiguration, RunConfiguration, PhysicalModel\n",
    "from src.analysis.constants import SIMULATOR\n",
    "# from src.analysis.error_mitigation import CustomErrorMitigation, IgnisErrorMitigation\n",
    "from src.models.constants import Groups"
   ]
  },
  {
   "cell_type": "markdown",
   "metadata": {
    "collapsed": false,
    "pycharm": {
     "name": "#%% md\n"
    }
   },
   "source": [
    "### Load account\n",
    "\n"
   ]
  },
  {
   "cell_type": "code",
   "execution_count": 3,
   "metadata": {
    "pycharm": {
     "name": "#%%\n"
    }
   },
   "outputs": [
    {
     "name": "stdout",
     "output_type": "stream",
     "text": [
      "[<IBMBackend('ibm_brisbane')>, <IBMBackend('ibm_sherbrooke')>, <IBMBackend('ibm_kyiv')>]\n"
     ]
    }
   ],
   "source": [
    "# IBMQ.load_account()\n",
    "service = QiskitRuntimeService(channel=\"ibm_quantum\")\n",
    "\n",
    "# PROVIDER = IBMQ.get_provider(hub='', group='', project='')\n",
    "# PROVIDER.backends()\n",
    "print(service.backends())\n",
    "\n",
    "# BACKEND_HARDWARE = '' # Add here physical backend to run\n",
    "BACKEND_HARDWARE = service.backend(\"ibm_brisbane\")"
   ]
  },
  {
   "cell_type": "code",
   "execution_count": 4,
   "metadata": {},
   "outputs": [],
   "source": [
    "# BACKEND_SIMULATOR = PROVIDER.get_backend(SIMULATOR)\n",
    "# backend = FakeManilaV2()\n",
    "BACKEND_SIMULATOR = service.backend(\"ibm_sherbrooke\")  #lets see for now by using a hardware as Aer doesn't seem to work\n",
    "# BACKEND_SIMULATOR = service.backend(\"simulator\")"
   ]
  },
  {
   "cell_type": "markdown",
   "metadata": {
    "collapsed": false,
    "pycharm": {
     "name": "#%% md\n"
    }
   },
   "source": [
    "### Define experiments\n",
    "The experiment below uses a square Z2 plaquette with g=1.0 and analyzes the time evolution with a value of t between 0 and 2 in increments of 0.2. It uses zne extrapolation (via Mitiq) and five scale factors. In these examples we use the qasm_simulator. For real results, replace BACKEND_SIMULATOR by BACKEND_HARDWARE.\n",
    "\n",
    "Note: The number of scale factors determines the type of extrapolation to use during the analysis phase. For example, when using a second order polynomial to extrapolate to zero noise, anything less or equal to three factors would result in over-fitting."
   ]
  },
  {
   "cell_type": "code",
   "execution_count": 5,
   "metadata": {
    "pycharm": {
     "name": "#%%\n"
    }
   },
   "outputs": [
    {
     "name": "stdout",
     "output_type": "stream",
     "text": [
      "PhysicalModel(plaquette=<class 'src.models.circuits.SinglePlaquette'>, number_links=4, coupling=1.0, control_qubit=1, gauge='z2')\n",
      "ExperimentConfiguration(output_error_correction=False, zne_extrapolation=True, scale_factors=[1.0, 1.2, 1.5, 1.8, 2.0], optimisation_level=2, num_replicas=2)\n",
      "RunConfiguration(time_vector=array([0. , 0.2, 0.4, 0.6, 0.8, 1. , 1.2, 1.4, 1.6, 1.8]), backend=<IBMBackend('ibm_sherbrooke')>, shots=1000)\n"
     ]
    }
   ],
   "source": [
    "time_vector = np.arange(0, 2, 0.2)\n",
    "physical_model = PhysicalModel(number_links=4, gauge=Groups.Z2, coupling=1.0)\n",
    "print(physical_model)\n",
    "\n",
    "experiment_configuration = ExperimentConfiguration(zne_extrapolation=True,\n",
    "                                                   scale_factors=[1.0, 1.2, 1.5, 1.8, 2.0],\n",
    "                                                   num_replicas=2)\n",
    "print(experiment_configuration)\n",
    "\n",
    "run_configuration_simulator = RunConfiguration(time_vector=time_vector,\n",
    "                                               backend=BACKEND_SIMULATOR)\n",
    "\n",
    "print(run_configuration_simulator)"
   ]
  },
  {
   "cell_type": "markdown",
   "metadata": {
    "collapsed": false,
    "pycharm": {
     "name": "#%% md\n"
    }
   },
   "source": [
    "## Run experiments"
   ]
  },
  {
   "cell_type": "code",
   "execution_count": 6,
   "metadata": {
    "collapsed": false,
    "pycharm": {
     "is_executing": true,
     "name": "#%%\n"
    }
   },
   "outputs": [
    {
     "name": "stderr",
     "output_type": "stream",
     "text": [
      "ERROR - Could not load 'clifford.rb_default': cannot import name 'SamplerV2' from 'qiskit_ibm_runtime' (/Users/Shared/Drive/Qiskit/mitiqenv/lib/python3.10/site-packages/qiskit_ibm_runtime/__init__.py)\n",
      "ERROR - Could not load 'clifford.rb_default': cannot import name 'SamplerV2' from 'qiskit_ibm_runtime' (/Users/Shared/Drive/Qiskit/mitiqenv/lib/python3.10/site-packages/qiskit_ibm_runtime/__init__.py)\n",
      "ERROR - Could not load 'clifford.rb_default': cannot import name 'SamplerV2' from 'qiskit_ibm_runtime' (/Users/Shared/Drive/Qiskit/mitiqenv/lib/python3.10/site-packages/qiskit_ibm_runtime/__init__.py)\n"
     ]
    },
    {
     "ename": "TranspilerError",
     "evalue": "\"HighLevelSynthesis was unable to synthesize Instruction(name='measure', num_qubits=1, num_clbits=1, params=[]).\"",
     "output_type": "error",
     "traceback": [
      "\u001b[0;31m---------------------------------------------------------------------------\u001b[0m",
      "\u001b[0;31mTranspilerError\u001b[0m                           Traceback (most recent call last)",
      "File \u001b[0;32m/Users/Shared/Drive/Qiskit/mitiqenv/lib/python3.10/site-packages/qiskit/transpiler/passmanager.py:464\u001b[0m, in \u001b[0;36m_replace_error.<locals>.wrapper\u001b[0;34m(*meth_args, **meth_kwargs)\u001b[0m\n\u001b[1;32m    463\u001b[0m \u001b[38;5;28;01mtry\u001b[39;00m:\n\u001b[0;32m--> 464\u001b[0m     \u001b[38;5;28;01mreturn\u001b[39;00m \u001b[43mmeth\u001b[49m\u001b[43m(\u001b[49m\u001b[38;5;241;43m*\u001b[39;49m\u001b[43mmeth_args\u001b[49m\u001b[43m,\u001b[49m\u001b[43m \u001b[49m\u001b[38;5;241;43m*\u001b[39;49m\u001b[38;5;241;43m*\u001b[39;49m\u001b[43mmeth_kwargs\u001b[49m\u001b[43m)\u001b[49m\n\u001b[1;32m    465\u001b[0m \u001b[38;5;28;01mexcept\u001b[39;00m PassManagerError \u001b[38;5;28;01mas\u001b[39;00m ex:\n",
      "File \u001b[0;32m/Users/Shared/Drive/Qiskit/mitiqenv/lib/python3.10/site-packages/qiskit/transpiler/passmanager.py:226\u001b[0m, in \u001b[0;36mPassManager.run\u001b[0;34m(self, circuits, output_name, callback, num_processes)\u001b[0m\n\u001b[1;32m    224\u001b[0m     callback \u001b[38;5;241m=\u001b[39m _legacy_style_callback(callback)\n\u001b[0;32m--> 226\u001b[0m \u001b[38;5;28;01mreturn\u001b[39;00m \u001b[38;5;28;43msuper\u001b[39;49m\u001b[43m(\u001b[49m\u001b[43m)\u001b[49m\u001b[38;5;241;43m.\u001b[39;49m\u001b[43mrun\u001b[49m\u001b[43m(\u001b[49m\n\u001b[1;32m    227\u001b[0m \u001b[43m    \u001b[49m\u001b[43min_programs\u001b[49m\u001b[38;5;241;43m=\u001b[39;49m\u001b[43mcircuits\u001b[49m\u001b[43m,\u001b[49m\n\u001b[1;32m    228\u001b[0m \u001b[43m    \u001b[49m\u001b[43mcallback\u001b[49m\u001b[38;5;241;43m=\u001b[39;49m\u001b[43mcallback\u001b[49m\u001b[43m,\u001b[49m\n\u001b[1;32m    229\u001b[0m \u001b[43m    \u001b[49m\u001b[43moutput_name\u001b[49m\u001b[38;5;241;43m=\u001b[39;49m\u001b[43moutput_name\u001b[49m\u001b[43m,\u001b[49m\n\u001b[1;32m    230\u001b[0m \u001b[43m    \u001b[49m\u001b[43mnum_processes\u001b[49m\u001b[38;5;241;43m=\u001b[39;49m\u001b[43mnum_processes\u001b[49m\u001b[43m,\u001b[49m\n\u001b[1;32m    231\u001b[0m \u001b[43m\u001b[49m\u001b[43m)\u001b[49m\n",
      "File \u001b[0;32m/Users/Shared/Drive/Qiskit/mitiqenv/lib/python3.10/site-packages/qiskit/passmanager/passmanager.py:231\u001b[0m, in \u001b[0;36mBasePassManager.run\u001b[0;34m(self, in_programs, callback, num_processes, **kwargs)\u001b[0m\n\u001b[1;32m    230\u001b[0m \u001b[38;5;28;01mif\u001b[39;00m \u001b[38;5;28mlen\u001b[39m(in_programs) \u001b[38;5;241m==\u001b[39m \u001b[38;5;241m1\u001b[39m \u001b[38;5;129;01mor\u001b[39;00m \u001b[38;5;129;01mnot\u001b[39;00m should_run_in_parallel(num_processes):\n\u001b[0;32m--> 231\u001b[0m     out \u001b[38;5;241m=\u001b[39m [\n\u001b[1;32m    232\u001b[0m         _run_workflow(program\u001b[38;5;241m=\u001b[39mprogram, pass_manager\u001b[38;5;241m=\u001b[39m\u001b[38;5;28mself\u001b[39m, callback\u001b[38;5;241m=\u001b[39mcallback, \u001b[38;5;241m*\u001b[39m\u001b[38;5;241m*\u001b[39mkwargs)\n\u001b[1;32m    233\u001b[0m         \u001b[38;5;28;01mfor\u001b[39;00m program \u001b[38;5;129;01min\u001b[39;00m in_programs\n\u001b[1;32m    234\u001b[0m     ]\n\u001b[1;32m    235\u001b[0m     \u001b[38;5;28;01mif\u001b[39;00m \u001b[38;5;28mlen\u001b[39m(in_programs) \u001b[38;5;241m==\u001b[39m \u001b[38;5;241m1\u001b[39m \u001b[38;5;129;01mand\u001b[39;00m \u001b[38;5;129;01mnot\u001b[39;00m is_list:\n",
      "File \u001b[0;32m/Users/Shared/Drive/Qiskit/mitiqenv/lib/python3.10/site-packages/qiskit/passmanager/passmanager.py:232\u001b[0m, in \u001b[0;36m<listcomp>\u001b[0;34m(.0)\u001b[0m\n\u001b[1;32m    230\u001b[0m \u001b[38;5;28;01mif\u001b[39;00m \u001b[38;5;28mlen\u001b[39m(in_programs) \u001b[38;5;241m==\u001b[39m \u001b[38;5;241m1\u001b[39m \u001b[38;5;129;01mor\u001b[39;00m \u001b[38;5;129;01mnot\u001b[39;00m should_run_in_parallel(num_processes):\n\u001b[1;32m    231\u001b[0m     out \u001b[38;5;241m=\u001b[39m [\n\u001b[0;32m--> 232\u001b[0m         \u001b[43m_run_workflow\u001b[49m\u001b[43m(\u001b[49m\u001b[43mprogram\u001b[49m\u001b[38;5;241;43m=\u001b[39;49m\u001b[43mprogram\u001b[49m\u001b[43m,\u001b[49m\u001b[43m \u001b[49m\u001b[43mpass_manager\u001b[49m\u001b[38;5;241;43m=\u001b[39;49m\u001b[38;5;28;43mself\u001b[39;49m\u001b[43m,\u001b[49m\u001b[43m \u001b[49m\u001b[43mcallback\u001b[49m\u001b[38;5;241;43m=\u001b[39;49m\u001b[43mcallback\u001b[49m\u001b[43m,\u001b[49m\u001b[43m \u001b[49m\u001b[38;5;241;43m*\u001b[39;49m\u001b[38;5;241;43m*\u001b[39;49m\u001b[43mkwargs\u001b[49m\u001b[43m)\u001b[49m\n\u001b[1;32m    233\u001b[0m         \u001b[38;5;28;01mfor\u001b[39;00m program \u001b[38;5;129;01min\u001b[39;00m in_programs\n\u001b[1;32m    234\u001b[0m     ]\n\u001b[1;32m    235\u001b[0m     \u001b[38;5;28;01mif\u001b[39;00m \u001b[38;5;28mlen\u001b[39m(in_programs) \u001b[38;5;241m==\u001b[39m \u001b[38;5;241m1\u001b[39m \u001b[38;5;129;01mand\u001b[39;00m \u001b[38;5;129;01mnot\u001b[39;00m is_list:\n",
      "File \u001b[0;32m/Users/Shared/Drive/Qiskit/mitiqenv/lib/python3.10/site-packages/qiskit/passmanager/passmanager.py:292\u001b[0m, in \u001b[0;36m_run_workflow\u001b[0;34m(program, pass_manager, **kwargs)\u001b[0m\n\u001b[1;32m    288\u001b[0m passmanager_ir \u001b[38;5;241m=\u001b[39m pass_manager\u001b[38;5;241m.\u001b[39m_passmanager_frontend(\n\u001b[1;32m    289\u001b[0m     input_program\u001b[38;5;241m=\u001b[39mprogram,\n\u001b[1;32m    290\u001b[0m     \u001b[38;5;241m*\u001b[39m\u001b[38;5;241m*\u001b[39mkwargs,\n\u001b[1;32m    291\u001b[0m )\n\u001b[0;32m--> 292\u001b[0m passmanager_ir, final_state \u001b[38;5;241m=\u001b[39m \u001b[43mflow_controller\u001b[49m\u001b[38;5;241;43m.\u001b[39;49m\u001b[43mexecute\u001b[49m\u001b[43m(\u001b[49m\n\u001b[1;32m    293\u001b[0m \u001b[43m    \u001b[49m\u001b[43mpassmanager_ir\u001b[49m\u001b[38;5;241;43m=\u001b[39;49m\u001b[43mpassmanager_ir\u001b[49m\u001b[43m,\u001b[49m\n\u001b[1;32m    294\u001b[0m \u001b[43m    \u001b[49m\u001b[43mstate\u001b[49m\u001b[38;5;241;43m=\u001b[39;49m\u001b[43mPassManagerState\u001b[49m\u001b[43m(\u001b[49m\n\u001b[1;32m    295\u001b[0m \u001b[43m        \u001b[49m\u001b[43mworkflow_status\u001b[49m\u001b[38;5;241;43m=\u001b[39;49m\u001b[43minitial_status\u001b[49m\u001b[43m,\u001b[49m\n\u001b[1;32m    296\u001b[0m \u001b[43m        \u001b[49m\u001b[43mproperty_set\u001b[49m\u001b[38;5;241;43m=\u001b[39;49m\u001b[43mPropertySet\u001b[49m\u001b[43m(\u001b[49m\u001b[43m)\u001b[49m\u001b[43m,\u001b[49m\n\u001b[1;32m    297\u001b[0m \u001b[43m    \u001b[49m\u001b[43m)\u001b[49m\u001b[43m,\u001b[49m\n\u001b[1;32m    298\u001b[0m \u001b[43m    \u001b[49m\u001b[43mcallback\u001b[49m\u001b[38;5;241;43m=\u001b[39;49m\u001b[43mkwargs\u001b[49m\u001b[38;5;241;43m.\u001b[39;49m\u001b[43mget\u001b[49m\u001b[43m(\u001b[49m\u001b[38;5;124;43m\"\u001b[39;49m\u001b[38;5;124;43mcallback\u001b[39;49m\u001b[38;5;124;43m\"\u001b[39;49m\u001b[43m,\u001b[49m\u001b[43m \u001b[49m\u001b[38;5;28;43;01mNone\u001b[39;49;00m\u001b[43m)\u001b[49m\u001b[43m,\u001b[49m\n\u001b[1;32m    299\u001b[0m \u001b[43m\u001b[49m\u001b[43m)\u001b[49m\n\u001b[1;32m    300\u001b[0m \u001b[38;5;66;03m# The `property_set` has historically been returned as a mutable attribute on `PassManager`\u001b[39;00m\n\u001b[1;32m    301\u001b[0m \u001b[38;5;66;03m# This makes us non-reentrant (though `PassManager` would be dependent on its internal tasks to\u001b[39;00m\n\u001b[1;32m    302\u001b[0m \u001b[38;5;66;03m# be re-entrant if that was required), but is consistent with previous interfaces.  We're still\u001b[39;00m\n\u001b[1;32m    303\u001b[0m \u001b[38;5;66;03m# safe to be called in a serial loop, again assuming internal tasks are re-runnable.  The\u001b[39;00m\n\u001b[1;32m    304\u001b[0m \u001b[38;5;66;03m# conversion to the backend language is also allowed to use the property set, so it must be set\u001b[39;00m\n\u001b[1;32m    305\u001b[0m \u001b[38;5;66;03m# before calling it.\u001b[39;00m\n",
      "File \u001b[0;32m/Users/Shared/Drive/Qiskit/mitiqenv/lib/python3.10/site-packages/qiskit/passmanager/base_tasks.py:218\u001b[0m, in \u001b[0;36mBaseController.execute\u001b[0;34m(self, passmanager_ir, state, callback)\u001b[0m\n\u001b[1;32m    217\u001b[0m \u001b[38;5;28;01mwhile\u001b[39;00m \u001b[38;5;28;01mTrue\u001b[39;00m:\n\u001b[0;32m--> 218\u001b[0m     passmanager_ir, state \u001b[38;5;241m=\u001b[39m \u001b[43mnext_task\u001b[49m\u001b[38;5;241;43m.\u001b[39;49m\u001b[43mexecute\u001b[49m\u001b[43m(\u001b[49m\n\u001b[1;32m    219\u001b[0m \u001b[43m        \u001b[49m\u001b[43mpassmanager_ir\u001b[49m\u001b[38;5;241;43m=\u001b[39;49m\u001b[43mpassmanager_ir\u001b[49m\u001b[43m,\u001b[49m\n\u001b[1;32m    220\u001b[0m \u001b[43m        \u001b[49m\u001b[43mstate\u001b[49m\u001b[38;5;241;43m=\u001b[39;49m\u001b[43mstate\u001b[49m\u001b[43m,\u001b[49m\n\u001b[1;32m    221\u001b[0m \u001b[43m        \u001b[49m\u001b[43mcallback\u001b[49m\u001b[38;5;241;43m=\u001b[39;49m\u001b[43mcallback\u001b[49m\u001b[43m,\u001b[49m\n\u001b[1;32m    222\u001b[0m \u001b[43m    \u001b[49m\u001b[43m)\u001b[49m\n\u001b[1;32m    223\u001b[0m     \u001b[38;5;28;01mtry\u001b[39;00m:\n\u001b[1;32m    224\u001b[0m         \u001b[38;5;66;03m# Sending the object through the generator implies the custom controllers\u001b[39;00m\n\u001b[1;32m    225\u001b[0m         \u001b[38;5;66;03m# can always rely on the latest data to choose the next task to run.\u001b[39;00m\n",
      "File \u001b[0;32m/Users/Shared/Drive/Qiskit/mitiqenv/lib/python3.10/site-packages/qiskit/transpiler/basepasses.py:195\u001b[0m, in \u001b[0;36mTransformationPass.execute\u001b[0;34m(self, passmanager_ir, state, callback)\u001b[0m\n\u001b[1;32m    189\u001b[0m \u001b[38;5;28;01mdef\u001b[39;00m \u001b[38;5;21mexecute\u001b[39m(\n\u001b[1;32m    190\u001b[0m     \u001b[38;5;28mself\u001b[39m,\n\u001b[1;32m    191\u001b[0m     passmanager_ir: PassManagerIR,\n\u001b[1;32m    192\u001b[0m     state: PassManagerState,\n\u001b[1;32m    193\u001b[0m     callback: Callable \u001b[38;5;241m=\u001b[39m \u001b[38;5;28;01mNone\u001b[39;00m,\n\u001b[1;32m    194\u001b[0m ) \u001b[38;5;241m-\u001b[39m\u001b[38;5;241m>\u001b[39m \u001b[38;5;28mtuple\u001b[39m[PassManagerIR, PassManagerState]:\n\u001b[0;32m--> 195\u001b[0m     new_dag, state \u001b[38;5;241m=\u001b[39m \u001b[38;5;28;43msuper\u001b[39;49m\u001b[43m(\u001b[49m\u001b[43m)\u001b[49m\u001b[38;5;241;43m.\u001b[39;49m\u001b[43mexecute\u001b[49m\u001b[43m(\u001b[49m\n\u001b[1;32m    196\u001b[0m \u001b[43m        \u001b[49m\u001b[43mpassmanager_ir\u001b[49m\u001b[38;5;241;43m=\u001b[39;49m\u001b[43mpassmanager_ir\u001b[49m\u001b[43m,\u001b[49m\n\u001b[1;32m    197\u001b[0m \u001b[43m        \u001b[49m\u001b[43mstate\u001b[49m\u001b[38;5;241;43m=\u001b[39;49m\u001b[43mstate\u001b[49m\u001b[43m,\u001b[49m\n\u001b[1;32m    198\u001b[0m \u001b[43m        \u001b[49m\u001b[43mcallback\u001b[49m\u001b[38;5;241;43m=\u001b[39;49m\u001b[43mcallback\u001b[49m\u001b[43m,\u001b[49m\n\u001b[1;32m    199\u001b[0m \u001b[43m    \u001b[49m\u001b[43m)\u001b[49m\n\u001b[1;32m    201\u001b[0m     \u001b[38;5;28;01mif\u001b[39;00m state\u001b[38;5;241m.\u001b[39mworkflow_status\u001b[38;5;241m.\u001b[39mprevious_run \u001b[38;5;241m==\u001b[39m RunState\u001b[38;5;241m.\u001b[39mSUCCESS:\n",
      "File \u001b[0;32m/Users/Shared/Drive/Qiskit/mitiqenv/lib/python3.10/site-packages/qiskit/passmanager/base_tasks.py:98\u001b[0m, in \u001b[0;36mGenericPass.execute\u001b[0;34m(self, passmanager_ir, state, callback)\u001b[0m\n\u001b[1;32m     97\u001b[0m \u001b[38;5;28;01mif\u001b[39;00m \u001b[38;5;28mself\u001b[39m \u001b[38;5;129;01mnot\u001b[39;00m \u001b[38;5;129;01min\u001b[39;00m state\u001b[38;5;241m.\u001b[39mworkflow_status\u001b[38;5;241m.\u001b[39mcompleted_passes:\n\u001b[0;32m---> 98\u001b[0m     ret \u001b[38;5;241m=\u001b[39m \u001b[38;5;28;43mself\u001b[39;49m\u001b[38;5;241;43m.\u001b[39;49m\u001b[43mrun\u001b[49m\u001b[43m(\u001b[49m\u001b[43mpassmanager_ir\u001b[49m\u001b[43m)\u001b[49m\n\u001b[1;32m     99\u001b[0m     run_state \u001b[38;5;241m=\u001b[39m RunState\u001b[38;5;241m.\u001b[39mSUCCESS\n",
      "File \u001b[0;32m/Users/Shared/Drive/Qiskit/mitiqenv/lib/python3.10/site-packages/qiskit/transpiler/passes/synthesis/high_level_synthesis.py:279\u001b[0m, in \u001b[0;36mHighLevelSynthesis.run\u001b[0;34m(self, dag)\u001b[0m\n\u001b[1;32m    277\u001b[0m     tracker\u001b[38;5;241m.\u001b[39mset_clean(context\u001b[38;5;241m.\u001b[39mto_globals(qubits))\n\u001b[0;32m--> 279\u001b[0m out_dag \u001b[38;5;241m=\u001b[39m \u001b[38;5;28;43mself\u001b[39;49m\u001b[38;5;241;43m.\u001b[39;49m\u001b[43m_run\u001b[49m\u001b[43m(\u001b[49m\u001b[43mdag\u001b[49m\u001b[43m,\u001b[49m\u001b[43m \u001b[49m\u001b[43mtracker\u001b[49m\u001b[43m,\u001b[49m\u001b[43m \u001b[49m\u001b[43mcontext\u001b[49m\u001b[43m,\u001b[49m\u001b[43m \u001b[49m\u001b[43muse_ancillas\u001b[49m\u001b[38;5;241;43m=\u001b[39;49m\u001b[38;5;28;43;01mTrue\u001b[39;49;00m\u001b[43m,\u001b[49m\u001b[43m \u001b[49m\u001b[43mtop_level\u001b[49m\u001b[38;5;241;43m=\u001b[39;49m\u001b[38;5;28;43;01mTrue\u001b[39;49;00m\u001b[43m)\u001b[49m\n\u001b[1;32m    280\u001b[0m \u001b[38;5;28;01mreturn\u001b[39;00m out_dag\n",
      "File \u001b[0;32m/Users/Shared/Drive/Qiskit/mitiqenv/lib/python3.10/site-packages/qiskit/transpiler/passes/synthesis/high_level_synthesis.py:379\u001b[0m, in \u001b[0;36mHighLevelSynthesis._run\u001b[0;34m(self, dag, tracker, context, use_ancillas, top_level)\u001b[0m\n\u001b[1;32m    373\u001b[0m \u001b[38;5;66;03m# now we are free to synthesize\u001b[39;00m\n\u001b[1;32m    374\u001b[0m \u001b[38;5;28;01melse\u001b[39;00m:\n\u001b[1;32m    375\u001b[0m     \u001b[38;5;66;03m# This returns the synthesized operation and its context (when the result is\u001b[39;00m\n\u001b[1;32m    376\u001b[0m     \u001b[38;5;66;03m# a DAG, it's the correspondence between its qubits and the global qubits).\u001b[39;00m\n\u001b[1;32m    377\u001b[0m     \u001b[38;5;66;03m# Also note that the DAG may use auxiliary qubits. The qubits tracker and the\u001b[39;00m\n\u001b[1;32m    378\u001b[0m     \u001b[38;5;66;03m# current DAG's context are updated in-place.\u001b[39;00m\n\u001b[0;32m--> 379\u001b[0m     synthesized, synthesized_context \u001b[38;5;241m=\u001b[39m \u001b[38;5;28;43mself\u001b[39;49m\u001b[38;5;241;43m.\u001b[39;49m\u001b[43m_synthesize_operation\u001b[49m\u001b[43m(\u001b[49m\n\u001b[1;32m    380\u001b[0m \u001b[43m        \u001b[49m\u001b[43mnode\u001b[49m\u001b[38;5;241;43m.\u001b[39;49m\u001b[43mop\u001b[49m\u001b[43m,\u001b[49m\u001b[43m \u001b[49m\u001b[43mqubits\u001b[49m\u001b[43m,\u001b[49m\u001b[43m \u001b[49m\u001b[43mtracker\u001b[49m\u001b[43m,\u001b[49m\u001b[43m \u001b[49m\u001b[43mcontext\u001b[49m\u001b[43m,\u001b[49m\u001b[43m \u001b[49m\u001b[43muse_ancillas\u001b[49m\u001b[38;5;241;43m=\u001b[39;49m\u001b[43muse_ancillas\u001b[49m\n\u001b[1;32m    381\u001b[0m \u001b[43m    \u001b[49m\u001b[43m)\u001b[49m\n\u001b[1;32m    383\u001b[0m \u001b[38;5;66;03m# If the synthesis changed the operation (i.e. it is not None), store the result.\u001b[39;00m\n",
      "File \u001b[0;32m/Users/Shared/Drive/Qiskit/mitiqenv/lib/python3.10/site-packages/qiskit/transpiler/passes/synthesis/high_level_synthesis.py:571\u001b[0m, in \u001b[0;36mHighLevelSynthesis._synthesize_operation\u001b[0;34m(self, operation, qubits, tracker, context, use_ancillas)\u001b[0m\n\u001b[1;32m    570\u001b[0m     \u001b[38;5;28;01mif\u001b[39;00m synthesized \u001b[38;5;129;01mis\u001b[39;00m \u001b[38;5;28;01mNone\u001b[39;00m \u001b[38;5;129;01mand\u001b[39;00m \u001b[38;5;129;01mnot\u001b[39;00m \u001b[38;5;28mself\u001b[39m\u001b[38;5;241m.\u001b[39m_top_level_only:\n\u001b[0;32m--> 571\u001b[0m         synthesized \u001b[38;5;241m=\u001b[39m \u001b[38;5;28;43mself\u001b[39;49m\u001b[38;5;241;43m.\u001b[39;49m\u001b[43m_get_custom_definition\u001b[49m\u001b[43m(\u001b[49m\u001b[43moperation\u001b[49m\u001b[43m,\u001b[49m\u001b[43m \u001b[49m\u001b[43mindices\u001b[49m\u001b[43m)\u001b[49m\n\u001b[1;32m    573\u001b[0m \u001b[38;5;28;01mif\u001b[39;00m synthesized \u001b[38;5;129;01mis\u001b[39;00m \u001b[38;5;28;01mNone\u001b[39;00m:\n\u001b[1;32m    574\u001b[0m     \u001b[38;5;66;03m# if we didn't synthesize, there was nothing to unroll\u001b[39;00m\n\u001b[1;32m    575\u001b[0m     \u001b[38;5;66;03m# updating the tracker will be handled upstream\u001b[39;00m\n",
      "File \u001b[0;32m/Users/Shared/Drive/Qiskit/mitiqenv/lib/python3.10/site-packages/qiskit/transpiler/passes/synthesis/high_level_synthesis.py:656\u001b[0m, in \u001b[0;36mHighLevelSynthesis._get_custom_definition\u001b[0;34m(self, inst, qubits)\u001b[0m\n\u001b[1;32m    655\u001b[0m \u001b[38;5;28;01mif\u001b[39;00m definition \u001b[38;5;129;01mis\u001b[39;00m \u001b[38;5;28;01mNone\u001b[39;00m:\n\u001b[0;32m--> 656\u001b[0m     \u001b[38;5;28;01mraise\u001b[39;00m TranspilerError(\u001b[38;5;124mf\u001b[39m\u001b[38;5;124m\"\u001b[39m\u001b[38;5;124mHighLevelSynthesis was unable to synthesize \u001b[39m\u001b[38;5;132;01m{\u001b[39;00minst\u001b[38;5;132;01m}\u001b[39;00m\u001b[38;5;124m.\u001b[39m\u001b[38;5;124m\"\u001b[39m)\n\u001b[1;32m    658\u001b[0m \u001b[38;5;28;01mreturn\u001b[39;00m definition\n",
      "\u001b[0;31mTranspilerError\u001b[0m: \"HighLevelSynthesis was unable to synthesize Instruction(name='measure', num_qubits=1, num_clbits=1, params=[]).\"",
      "\nThe above exception was the direct cause of the following exception:\n",
      "\u001b[0;31mTranspilerError\u001b[0m                           Traceback (most recent call last)",
      "Cell \u001b[0;32mIn[6], line 1\u001b[0m\n\u001b[0;32m----> 1\u001b[0m job_manager_sim, hpc_sim_job_id, circuits_sim \u001b[38;5;241m=\u001b[39m \u001b[43mrun_circuits\u001b[49m\u001b[43m(\u001b[49m\u001b[43mphysical_model\u001b[49m\u001b[43m,\u001b[49m\u001b[43m \u001b[49m\u001b[43mexperiment_configuration\u001b[49m\u001b[43m,\u001b[49m\u001b[43m \u001b[49m\u001b[43mrun_configuration_simulator\u001b[49m\u001b[43m)\u001b[49m\n",
      "File \u001b[0;32m/Users/Shared/Drive/Qiskit/plaquette-models/src/analysis/analysis.py:107\u001b[0m, in \u001b[0;36mrun_circuits\u001b[0;34m(physical_model, experiment_config, run_config)\u001b[0m\n\u001b[1;32m    105\u001b[0m     plaquette_obj \u001b[38;5;241m=\u001b[39m model(number_links \u001b[38;5;241m+\u001b[39m \u001b[38;5;241m1\u001b[39m, time_step, g, gauge_group\u001b[38;5;241m=\u001b[39mgroup)\n\u001b[1;32m    106\u001b[0m     base_circuit \u001b[38;5;241m=\u001b[39m plaquette_obj\u001b[38;5;241m.\u001b[39mgenerate_circuit(control_qubit)  \u001b[38;5;66;03m# For Valencia, qubit 1 is the control qubit\u001b[39;00m\n\u001b[0;32m--> 107\u001b[0m     circuits_in_step \u001b[38;5;241m=\u001b[39m \u001b[43mget_circuits_by_time_step\u001b[49m\u001b[43m(\u001b[49m\u001b[43mbase_circuit\u001b[49m\u001b[43m,\u001b[49m\u001b[43m \u001b[49m\u001b[43mzne_extrapolation\u001b[49m\u001b[43m,\u001b[49m\u001b[43m \u001b[49m\u001b[43mscale_factors\u001b[49m\u001b[43m,\u001b[49m\u001b[43m \u001b[49m\u001b[43mbackend\u001b[49m\u001b[43m,\u001b[49m\n\u001b[1;32m    108\u001b[0m \u001b[43m                                                 \u001b[49m\u001b[43moptimization_level\u001b[49m\u001b[43m)\u001b[49m\n\u001b[1;32m    110\u001b[0m     circuits\u001b[38;5;241m.\u001b[39mextend(circuits_in_step)\n\u001b[1;32m    112\u001b[0m max_credits \u001b[38;5;241m=\u001b[39m \u001b[38;5;241m5\u001b[39m  \u001b[38;5;66;03m# max credits to spend on executions--the gui interface gives credit prices\u001b[39;00m\n",
      "File \u001b[0;32m/Users/Shared/Drive/Qiskit/plaquette-models/src/analysis/analysis.py:150\u001b[0m, in \u001b[0;36mget_circuits_by_time_step\u001b[0;34m(circuit, zne, scale_factors, backend, optimization_level)\u001b[0m\n\u001b[1;32m    147\u001b[0m     \u001b[38;5;28;01mreturn\u001b[39;00m [circuit]\n\u001b[1;32m    149\u001b[0m \u001b[38;5;28;01mfor\u001b[39;00m scale \u001b[38;5;129;01min\u001b[39;00m scale_factors:\n\u001b[0;32m--> 150\u001b[0m     circuit \u001b[38;5;241m=\u001b[39m \u001b[43mtranspile\u001b[49m\u001b[43m(\u001b[49m\u001b[43mcircuit\u001b[49m\u001b[43m,\u001b[49m\u001b[43m \u001b[49m\u001b[43mbackend\u001b[49m\u001b[43m,\u001b[49m\u001b[43m \u001b[49m\u001b[43mbasis_gates\u001b[49m\u001b[38;5;241;43m=\u001b[39;49m\u001b[43m[\u001b[49m\u001b[38;5;124;43m'\u001b[39;49m\u001b[38;5;124;43mid\u001b[39;49m\u001b[38;5;124;43m'\u001b[39;49m\u001b[43m,\u001b[49m\u001b[43m \u001b[49m\u001b[38;5;124;43m'\u001b[39;49m\u001b[38;5;124;43mu1\u001b[39;49m\u001b[38;5;124;43m'\u001b[39;49m\u001b[43m,\u001b[49m\u001b[43m \u001b[49m\u001b[38;5;124;43m'\u001b[39;49m\u001b[38;5;124;43mu2\u001b[39;49m\u001b[38;5;124;43m'\u001b[39;49m\u001b[43m,\u001b[49m\u001b[43m \u001b[49m\u001b[38;5;124;43m'\u001b[39;49m\u001b[38;5;124;43mu3\u001b[39;49m\u001b[38;5;124;43m'\u001b[39;49m\u001b[43m,\u001b[49m\u001b[43m \u001b[49m\u001b[38;5;124;43m'\u001b[39;49m\u001b[38;5;124;43mcx\u001b[39;49m\u001b[38;5;124;43m'\u001b[39;49m\u001b[43m]\u001b[49m\u001b[43m,\u001b[49m\n\u001b[1;32m    151\u001b[0m \u001b[43m                        \u001b[49m\u001b[43moptimization_level\u001b[49m\u001b[38;5;241;43m=\u001b[39;49m\u001b[38;5;241;43m2\u001b[39;49m\u001b[43m)\u001b[49m\n\u001b[1;32m    153\u001b[0m     folded_circuit \u001b[38;5;241m=\u001b[39m custom_folding(circuit, scale, seed\u001b[38;5;241m=\u001b[39m\u001b[38;5;241m150\u001b[39m)\n\u001b[1;32m    154\u001b[0m     circuits_in_time_step\u001b[38;5;241m.\u001b[39mappend(folded_circuit)\n",
      "File \u001b[0;32m/Users/Shared/Drive/Qiskit/mitiqenv/lib/python3.10/site-packages/qiskit/utils/deprecation.py:184\u001b[0m, in \u001b[0;36mdeprecate_arg.<locals>.decorator.<locals>.wrapper\u001b[0;34m(*args, **kwargs)\u001b[0m\n\u001b[1;32m    171\u001b[0m \u001b[38;5;129m@functools\u001b[39m\u001b[38;5;241m.\u001b[39mwraps(func)\n\u001b[1;32m    172\u001b[0m \u001b[38;5;28;01mdef\u001b[39;00m \u001b[38;5;21mwrapper\u001b[39m(\u001b[38;5;241m*\u001b[39margs, \u001b[38;5;241m*\u001b[39m\u001b[38;5;241m*\u001b[39mkwargs):\n\u001b[1;32m    173\u001b[0m     _maybe_warn_and_rename_kwarg(\n\u001b[1;32m    174\u001b[0m         args,\n\u001b[1;32m    175\u001b[0m         kwargs,\n\u001b[0;32m   (...)\u001b[0m\n\u001b[1;32m    182\u001b[0m         predicate\u001b[38;5;241m=\u001b[39mpredicate,\n\u001b[1;32m    183\u001b[0m     )\n\u001b[0;32m--> 184\u001b[0m     \u001b[38;5;28;01mreturn\u001b[39;00m \u001b[43mfunc\u001b[49m\u001b[43m(\u001b[49m\u001b[38;5;241;43m*\u001b[39;49m\u001b[43margs\u001b[49m\u001b[43m,\u001b[49m\u001b[43m \u001b[49m\u001b[38;5;241;43m*\u001b[39;49m\u001b[38;5;241;43m*\u001b[39;49m\u001b[43mkwargs\u001b[49m\u001b[43m)\u001b[49m\n",
      "File \u001b[0;32m/Users/Shared/Drive/Qiskit/mitiqenv/lib/python3.10/site-packages/qiskit/utils/deprecation.py:184\u001b[0m, in \u001b[0;36mdeprecate_arg.<locals>.decorator.<locals>.wrapper\u001b[0;34m(*args, **kwargs)\u001b[0m\n\u001b[1;32m    171\u001b[0m \u001b[38;5;129m@functools\u001b[39m\u001b[38;5;241m.\u001b[39mwraps(func)\n\u001b[1;32m    172\u001b[0m \u001b[38;5;28;01mdef\u001b[39;00m \u001b[38;5;21mwrapper\u001b[39m(\u001b[38;5;241m*\u001b[39margs, \u001b[38;5;241m*\u001b[39m\u001b[38;5;241m*\u001b[39mkwargs):\n\u001b[1;32m    173\u001b[0m     _maybe_warn_and_rename_kwarg(\n\u001b[1;32m    174\u001b[0m         args,\n\u001b[1;32m    175\u001b[0m         kwargs,\n\u001b[0;32m   (...)\u001b[0m\n\u001b[1;32m    182\u001b[0m         predicate\u001b[38;5;241m=\u001b[39mpredicate,\n\u001b[1;32m    183\u001b[0m     )\n\u001b[0;32m--> 184\u001b[0m     \u001b[38;5;28;01mreturn\u001b[39;00m \u001b[43mfunc\u001b[49m\u001b[43m(\u001b[49m\u001b[38;5;241;43m*\u001b[39;49m\u001b[43margs\u001b[49m\u001b[43m,\u001b[49m\u001b[43m \u001b[49m\u001b[38;5;241;43m*\u001b[39;49m\u001b[38;5;241;43m*\u001b[39;49m\u001b[43mkwargs\u001b[49m\u001b[43m)\u001b[49m\n",
      "    \u001b[0;31m[... skipping similar frames: deprecate_arg.<locals>.decorator.<locals>.wrapper at line 184 (1 times)]\u001b[0m\n",
      "File \u001b[0;32m/Users/Shared/Drive/Qiskit/mitiqenv/lib/python3.10/site-packages/qiskit/utils/deprecation.py:184\u001b[0m, in \u001b[0;36mdeprecate_arg.<locals>.decorator.<locals>.wrapper\u001b[0;34m(*args, **kwargs)\u001b[0m\n\u001b[1;32m    171\u001b[0m \u001b[38;5;129m@functools\u001b[39m\u001b[38;5;241m.\u001b[39mwraps(func)\n\u001b[1;32m    172\u001b[0m \u001b[38;5;28;01mdef\u001b[39;00m \u001b[38;5;21mwrapper\u001b[39m(\u001b[38;5;241m*\u001b[39margs, \u001b[38;5;241m*\u001b[39m\u001b[38;5;241m*\u001b[39mkwargs):\n\u001b[1;32m    173\u001b[0m     _maybe_warn_and_rename_kwarg(\n\u001b[1;32m    174\u001b[0m         args,\n\u001b[1;32m    175\u001b[0m         kwargs,\n\u001b[0;32m   (...)\u001b[0m\n\u001b[1;32m    182\u001b[0m         predicate\u001b[38;5;241m=\u001b[39mpredicate,\n\u001b[1;32m    183\u001b[0m     )\n\u001b[0;32m--> 184\u001b[0m     \u001b[38;5;28;01mreturn\u001b[39;00m \u001b[43mfunc\u001b[49m\u001b[43m(\u001b[49m\u001b[38;5;241;43m*\u001b[39;49m\u001b[43margs\u001b[49m\u001b[43m,\u001b[49m\u001b[43m \u001b[49m\u001b[38;5;241;43m*\u001b[39;49m\u001b[38;5;241;43m*\u001b[39;49m\u001b[43mkwargs\u001b[49m\u001b[43m)\u001b[49m\n",
      "File \u001b[0;32m/Users/Shared/Drive/Qiskit/mitiqenv/lib/python3.10/site-packages/qiskit/compiler/transpiler.py:449\u001b[0m, in \u001b[0;36mtranspile\u001b[0;34m(circuits, backend, basis_gates, inst_map, coupling_map, backend_properties, initial_layout, layout_method, routing_method, translation_method, scheduling_method, instruction_durations, dt, approximation_degree, timing_constraints, seed_transpiler, optimization_level, callback, output_name, unitary_synthesis_method, unitary_synthesis_plugin_config, target, hls_config, init_method, optimization_method, ignore_backend_supplied_default_methods, num_processes, qubits_initially_zero)\u001b[0m\n\u001b[1;32m    417\u001b[0m     warnings\u001b[38;5;241m.\u001b[39mfilterwarnings(\n\u001b[1;32m    418\u001b[0m         \u001b[38;5;124m\"\u001b[39m\u001b[38;5;124mignore\u001b[39m\u001b[38;5;124m\"\u001b[39m,\n\u001b[1;32m    419\u001b[0m         category\u001b[38;5;241m=\u001b[39m\u001b[38;5;167;01mDeprecationWarning\u001b[39;00m,\n\u001b[1;32m    420\u001b[0m         message\u001b[38;5;241m=\u001b[39m\u001b[38;5;124m\"\u001b[39m\u001b[38;5;124m.*``backend_properties`` is deprecated as of Qiskit 1.3.*\u001b[39m\u001b[38;5;124m\"\u001b[39m,\n\u001b[1;32m    421\u001b[0m         module\u001b[38;5;241m=\u001b[39m\u001b[38;5;124m\"\u001b[39m\u001b[38;5;124mqiskit\u001b[39m\u001b[38;5;124m\"\u001b[39m,\n\u001b[1;32m    422\u001b[0m     )\n\u001b[1;32m    423\u001b[0m     pm \u001b[38;5;241m=\u001b[39m generate_preset_pass_manager(\n\u001b[1;32m    424\u001b[0m         optimization_level,\n\u001b[1;32m    425\u001b[0m         target\u001b[38;5;241m=\u001b[39mtarget,\n\u001b[0;32m   (...)\u001b[0m\n\u001b[1;32m    446\u001b[0m         qubits_initially_zero\u001b[38;5;241m=\u001b[39mqubits_initially_zero,\n\u001b[1;32m    447\u001b[0m     )\n\u001b[0;32m--> 449\u001b[0m out_circuits \u001b[38;5;241m=\u001b[39m \u001b[43mpm\u001b[49m\u001b[38;5;241;43m.\u001b[39;49m\u001b[43mrun\u001b[49m\u001b[43m(\u001b[49m\u001b[43mcircuits\u001b[49m\u001b[43m,\u001b[49m\u001b[43m \u001b[49m\u001b[43mcallback\u001b[49m\u001b[38;5;241;43m=\u001b[39;49m\u001b[43mcallback\u001b[49m\u001b[43m,\u001b[49m\u001b[43m \u001b[49m\u001b[43mnum_processes\u001b[49m\u001b[38;5;241;43m=\u001b[39;49m\u001b[43mnum_processes\u001b[49m\u001b[43m)\u001b[49m\n\u001b[1;32m    451\u001b[0m \u001b[38;5;28;01mfor\u001b[39;00m name, circ \u001b[38;5;129;01min\u001b[39;00m \u001b[38;5;28mzip\u001b[39m(output_name, out_circuits):\n\u001b[1;32m    452\u001b[0m     circ\u001b[38;5;241m.\u001b[39mname \u001b[38;5;241m=\u001b[39m name\n",
      "File \u001b[0;32m/Users/Shared/Drive/Qiskit/mitiqenv/lib/python3.10/site-packages/qiskit/transpiler/passmanager.py:441\u001b[0m, in \u001b[0;36mStagedPassManager.run\u001b[0;34m(self, circuits, output_name, callback, num_processes)\u001b[0m\n\u001b[1;32m    433\u001b[0m \u001b[38;5;28;01mdef\u001b[39;00m \u001b[38;5;21mrun\u001b[39m(\n\u001b[1;32m    434\u001b[0m     \u001b[38;5;28mself\u001b[39m,\n\u001b[1;32m    435\u001b[0m     circuits: _CircuitsT,\n\u001b[0;32m   (...)\u001b[0m\n\u001b[1;32m    438\u001b[0m     num_processes: \u001b[38;5;28mint\u001b[39m \u001b[38;5;241m=\u001b[39m \u001b[38;5;28;01mNone\u001b[39;00m,\n\u001b[1;32m    439\u001b[0m ) \u001b[38;5;241m-\u001b[39m\u001b[38;5;241m>\u001b[39m _CircuitsT:\n\u001b[1;32m    440\u001b[0m     \u001b[38;5;28mself\u001b[39m\u001b[38;5;241m.\u001b[39m_update_passmanager()\n\u001b[0;32m--> 441\u001b[0m     \u001b[38;5;28;01mreturn\u001b[39;00m \u001b[38;5;28;43msuper\u001b[39;49m\u001b[43m(\u001b[49m\u001b[43m)\u001b[49m\u001b[38;5;241;43m.\u001b[39;49m\u001b[43mrun\u001b[49m\u001b[43m(\u001b[49m\u001b[43mcircuits\u001b[49m\u001b[43m,\u001b[49m\u001b[43m \u001b[49m\u001b[43moutput_name\u001b[49m\u001b[43m,\u001b[49m\u001b[43m \u001b[49m\u001b[43mcallback\u001b[49m\u001b[43m,\u001b[49m\u001b[43m \u001b[49m\u001b[43mnum_processes\u001b[49m\u001b[38;5;241;43m=\u001b[39;49m\u001b[43mnum_processes\u001b[49m\u001b[43m)\u001b[49m\n",
      "File \u001b[0;32m/Users/Shared/Drive/Qiskit/mitiqenv/lib/python3.10/site-packages/qiskit/transpiler/passmanager.py:466\u001b[0m, in \u001b[0;36m_replace_error.<locals>.wrapper\u001b[0;34m(*meth_args, **meth_kwargs)\u001b[0m\n\u001b[1;32m    464\u001b[0m     \u001b[38;5;28;01mreturn\u001b[39;00m meth(\u001b[38;5;241m*\u001b[39mmeth_args, \u001b[38;5;241m*\u001b[39m\u001b[38;5;241m*\u001b[39mmeth_kwargs)\n\u001b[1;32m    465\u001b[0m \u001b[38;5;28;01mexcept\u001b[39;00m PassManagerError \u001b[38;5;28;01mas\u001b[39;00m ex:\n\u001b[0;32m--> 466\u001b[0m     \u001b[38;5;28;01mraise\u001b[39;00m TranspilerError(ex\u001b[38;5;241m.\u001b[39mmessage) \u001b[38;5;28;01mfrom\u001b[39;00m \u001b[38;5;21;01mex\u001b[39;00m\n",
      "\u001b[0;31mTranspilerError\u001b[0m: \"HighLevelSynthesis was unable to synthesize Instruction(name='measure', num_qubits=1, num_clbits=1, params=[]).\""
     ]
    }
   ],
   "source": [
    "job_manager_sim, hpc_sim_job_id, circuits_sim = run_circuits(physical_model, experiment_configuration, run_configuration_simulator)"
   ]
  },
  {
   "cell_type": "code",
   "execution_count": 5,
   "metadata": {
    "pycharm": {
     "name": "#%%\n"
    }
   },
   "outputs": [],
   "source": [
    "hpc_res_job = job_manager_sim.retrieve_job_set(job_set_id=hpc_sim_job_id, provider=PROVIDER)"
   ]
  },
  {
   "cell_type": "code",
   "execution_count": 6,
   "metadata": {
    "pycharm": {
     "name": "#%%\n"
    }
   },
   "outputs": [
    {
     "data": {
      "text/plain": [
       "[<JobStatus.DONE: 'job has successfully run'>]"
      ]
     },
     "execution_count": 6,
     "metadata": {},
     "output_type": "execute_result"
    }
   ],
   "source": [
    "hpc_res_job.statuses()"
   ]
  },
  {
   "cell_type": "markdown",
   "metadata": {
    "collapsed": false,
    "pycharm": {
     "name": "#%% md\n"
    }
   },
   "source": [
    "#### Retrieve experiments results"
   ]
  },
  {
   "cell_type": "code",
   "execution_count": 7,
   "metadata": {
    "pycharm": {
     "name": "#%%\n"
    }
   },
   "outputs": [],
   "source": [
    "hpc_res_sim = hpc_res_job.results()"
   ]
  },
  {
   "cell_type": "markdown",
   "metadata": {
    "collapsed": false,
    "pycharm": {
     "name": "#%% md\n"
    }
   },
   "source": [
    "The next cell saves the count results from the experiment so they can be recovered later if necessary."
   ]
  },
  {
   "cell_type": "code",
   "execution_count": null,
   "metadata": {
    "pycharm": {
     "name": "#%%\n"
    }
   },
   "outputs": [],
   "source": [
    "import pickle\n",
    "\n",
    "pickle.dump([hpc_res_sim.get_counts(i) for i in range(len(time_vector))], open(\"exp_result_counts.pickle\", 'wb'))"
   ]
  },
  {
   "cell_type": "markdown",
   "metadata": {
    "collapsed": false,
    "pycharm": {
     "name": "#%% md\n"
    }
   },
   "source": [
    "### Build ignis error filter\n",
    "The ignis package is used for output error mitigation. It is useful for circuits with a small number of qubits (n) as the ones used for the single plaquette. The cell below executes the 2^n experiments necessary to perform output error mitigation."
   ]
  },
  {
   "cell_type": "code",
   "execution_count": 8,
   "metadata": {
    "pycharm": {
     "name": "#%%\n"
    }
   },
   "outputs": [],
   "source": [
    "ignis_err_corr = IgnisErrorMitigation(n_qubits=5, shots=1000)\n",
    "meas_filter = ignis_err_corr.get_meas_fitter(backend=BACKEND_SIMULATOR)"
   ]
  },
  {
   "cell_type": "markdown",
   "metadata": {
    "collapsed": false
   },
   "source": [
    "### Analyze results from the experiments\n",
    "\n",
    "The result is a dataframe with the measurements of all observables based on the experiment configurations"
   ]
  },
  {
   "cell_type": "code",
   "execution_count": 9,
   "metadata": {
    "pycharm": {
     "name": "#%%\n"
    }
   },
   "outputs": [],
   "source": [
    "results_df = analyze_results(physical_model, experiment_configuration, run_configuration_simulator, result_hpc=hpc_res_sim, meas_filter=meas_filter)"
   ]
  },
  {
   "cell_type": "code",
   "execution_count": 10,
   "metadata": {
    "collapsed": false,
    "pycharm": {
     "name": "#%%\n"
    }
   },
   "outputs": [
    {
     "data": {
      "text/html": [
       "<div>\n",
       "<style scoped>\n",
       "    .dataframe tbody tr th:only-of-type {\n",
       "        vertical-align: middle;\n",
       "    }\n",
       "\n",
       "    .dataframe tbody tr th {\n",
       "        vertical-align: top;\n",
       "    }\n",
       "\n",
       "    .dataframe thead th {\n",
       "        text-align: right;\n",
       "    }\n",
       "</style>\n",
       "<table border=\"1\" class=\"dataframe\">\n",
       "  <thead>\n",
       "    <tr style=\"text-align: right;\">\n",
       "      <th></th>\n",
       "      <th>replica</th>\n",
       "      <th>scale_factor</th>\n",
       "      <th>time</th>\n",
       "      <th>gauss_law</th>\n",
       "      <th>gauss_law_corrected</th>\n",
       "      <th>sector_2</th>\n",
       "      <th>sector_2_corrected</th>\n",
       "      <th>gauss_law_squared</th>\n",
       "      <th>gauss_law_squared_corrected</th>\n",
       "      <th>original</th>\n",
       "      <th>output_corrected</th>\n",
       "    </tr>\n",
       "  </thead>\n",
       "  <tbody>\n",
       "    <tr>\n",
       "      <th>0</th>\n",
       "      <td>0.0</td>\n",
       "      <td>1.0</td>\n",
       "      <td>0.0</td>\n",
       "      <td>1.0</td>\n",
       "      <td>1.0</td>\n",
       "      <td>0.0</td>\n",
       "      <td>1.798138e-11</td>\n",
       "      <td>0.0</td>\n",
       "      <td>1.151705e-09</td>\n",
       "      <td>1.0</td>\n",
       "      <td>1.0</td>\n",
       "    </tr>\n",
       "    <tr>\n",
       "      <th>1</th>\n",
       "      <td>0.0</td>\n",
       "      <td>1.2</td>\n",
       "      <td>0.0</td>\n",
       "      <td>1.0</td>\n",
       "      <td>1.0</td>\n",
       "      <td>0.0</td>\n",
       "      <td>8.685279e-12</td>\n",
       "      <td>0.0</td>\n",
       "      <td>5.569776e-10</td>\n",
       "      <td>1.0</td>\n",
       "      <td>1.0</td>\n",
       "    </tr>\n",
       "    <tr>\n",
       "      <th>2</th>\n",
       "      <td>0.0</td>\n",
       "      <td>1.5</td>\n",
       "      <td>0.0</td>\n",
       "      <td>1.0</td>\n",
       "      <td>1.0</td>\n",
       "      <td>0.0</td>\n",
       "      <td>9.924747e-13</td>\n",
       "      <td>0.0</td>\n",
       "      <td>6.347507e-11</td>\n",
       "      <td>1.0</td>\n",
       "      <td>1.0</td>\n",
       "    </tr>\n",
       "    <tr>\n",
       "      <th>3</th>\n",
       "      <td>0.0</td>\n",
       "      <td>1.8</td>\n",
       "      <td>0.0</td>\n",
       "      <td>1.0</td>\n",
       "      <td>1.0</td>\n",
       "      <td>0.0</td>\n",
       "      <td>0.000000e+00</td>\n",
       "      <td>0.0</td>\n",
       "      <td>0.000000e+00</td>\n",
       "      <td>1.0</td>\n",
       "      <td>1.0</td>\n",
       "    </tr>\n",
       "    <tr>\n",
       "      <th>4</th>\n",
       "      <td>0.0</td>\n",
       "      <td>2.0</td>\n",
       "      <td>0.0</td>\n",
       "      <td>1.0</td>\n",
       "      <td>1.0</td>\n",
       "      <td>0.0</td>\n",
       "      <td>6.573415e-12</td>\n",
       "      <td>0.0</td>\n",
       "      <td>4.203611e-10</td>\n",
       "      <td>1.0</td>\n",
       "      <td>1.0</td>\n",
       "    </tr>\n",
       "  </tbody>\n",
       "</table>\n",
       "</div>"
      ],
      "text/plain": [
       "   replica  scale_factor  time  gauss_law  gauss_law_corrected  sector_2  \\\n",
       "0      0.0           1.0   0.0        1.0                  1.0       0.0   \n",
       "1      0.0           1.2   0.0        1.0                  1.0       0.0   \n",
       "2      0.0           1.5   0.0        1.0                  1.0       0.0   \n",
       "3      0.0           1.8   0.0        1.0                  1.0       0.0   \n",
       "4      0.0           2.0   0.0        1.0                  1.0       0.0   \n",
       "\n",
       "   sector_2_corrected  gauss_law_squared  gauss_law_squared_corrected  \\\n",
       "0        1.798138e-11                0.0                 1.151705e-09   \n",
       "1        8.685279e-12                0.0                 5.569776e-10   \n",
       "2        9.924747e-13                0.0                 6.347507e-11   \n",
       "3        0.000000e+00                0.0                 0.000000e+00   \n",
       "4        6.573415e-12                0.0                 4.203611e-10   \n",
       "\n",
       "   original  output_corrected  \n",
       "0       1.0               1.0  \n",
       "1       1.0               1.0  \n",
       "2       1.0               1.0  \n",
       "3       1.0               1.0  \n",
       "4       1.0               1.0  "
      ]
     },
     "execution_count": 10,
     "metadata": {},
     "output_type": "execute_result"
    }
   ],
   "source": [
    "results_df.head()"
   ]
  },
  {
   "cell_type": "markdown",
   "metadata": {
    "collapsed": false,
    "pycharm": {
     "name": "#%% md\n"
    }
   },
   "source": [
    "### Run experiments using custom error correction.\n",
    "Only probability density observable is supported when using custom error correction.\n"
   ]
  },
  {
   "cell_type": "code",
   "execution_count": null,
   "metadata": {
    "pycharm": {
     "name": "#%%\n"
    }
   },
   "outputs": [],
   "source": [
    "error_correction = CustomErrorMitigation(n_qubits=5, shots=1000)\n",
    "error_correction = error_correction.build_probability_matrix(backend=BACKEND_HARDWARE)"
   ]
  },
  {
   "cell_type": "code",
   "execution_count": null,
   "metadata": {
    "collapsed": false,
    "pycharm": {
     "name": "#%%\n"
    }
   },
   "outputs": [],
   "source": [
    "results_df_custom = analyze_results(physical_model, experiment_configuration, run_configuration_simulator, result_hpc=hpc_res_sim, ignis=False, mitigated_counts=error_correction)"
   ]
  },
  {
   "cell_type": "markdown",
   "metadata": {
    "collapsed": false,
    "pycharm": {
     "name": "#%% md\n"
    }
   },
   "source": [
    "## Analyze experiments"
   ]
  },
  {
   "cell_type": "markdown",
   "metadata": {
    "collapsed": false,
    "pycharm": {
     "name": "#%% md\n"
    }
   },
   "source": [
    "### Plot time evolution\n",
    "The code below is an example plot generated from the results dataframe. It plots g t in the x axis vs the probability amplitude for the '00000' state in the y axis. The plot displays the untreated results (not corrected), readout only corrected and readout + zero noise extrapolation using mitiq."
   ]
  },
  {
   "cell_type": "code",
   "execution_count": 11,
   "metadata": {
    "collapsed": false,
    "pycharm": {
     "name": "#%%\n"
    }
   },
   "outputs": [
    {
     "data": {
      "image/png": "[encoded data removed]",
      "text/plain": [
       "<Figure size 576x432 with 1 Axes>"
      ]
     },
     "metadata": {
      "needs_background": "light"
     },
     "output_type": "display_data"
    }
   ],
   "source": [
    "from src.plotting.time_evolution import plot_time_evolution\n",
    "\n",
    "plot_time_evolution(df_results=results_df)"
   ]
  }
 ],
 "metadata": {
  "kernelspec": {
   "display_name": "Python 3",
   "language": "python",
   "name": "python3"
  },
  "language_info": {
   "codemirror_mode": {
    "name": "ipython",
    "version": 3
   },
   "file_extension": ".py",
   "mimetype": "text/x-python",
   "name": "python",
   "nbconvert_exporter": "python",
   "pygments_lexer": "ipython3",
   "version": "3.10.15"
  }
 },
 "nbformat": 4,
 "nbformat_minor": 1
}
