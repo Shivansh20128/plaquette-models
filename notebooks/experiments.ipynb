{
 "cells": [
  {
   "cell_type": "markdown",
   "metadata": {
    "pycharm": {
     "name": "#%% md\n"
    }
   },
   "source": [
    "# Run experiments"
   ]
  },
  {
   "cell_type": "markdown",
   "source": [
    "### Load packages"
   ],
   "metadata": {
    "collapsed": false,
    "pycharm": {
     "name": "#%% md\n"
    }
   }
  },
  {
   "cell_type": "code",
   "execution_count": null,
   "outputs": [],
   "source": [
    "import numpy as np\n",
    "from qiskit import IBMQ\n",
    "from qiskit.test.mock import FakeVigo\n",
    "\n",
    "from src.analysis.analysis import run_circuits, analyze_results, ExperimentConfiguration, RunConfiguration, PhysicalModel\n",
    "from src.analysis.constants import SIMULATOR\n",
    "from src.analysis.error_mitigation import CustomErrorMitigation, IgnisErrorMitigation\n",
    "from src.models.constants import Groups"
   ],
   "metadata": {
    "collapsed": false,
    "pycharm": {
     "name": "#%%\n"
    }
   }
  },
  {
   "cell_type": "markdown",
   "source": [
    "### Load accoun\n",
    "\n"
   ],
   "metadata": {
    "collapsed": false,
    "pycharm": {
     "name": "#%% md\n"
    }
   }
  },
  {
   "cell_type": "code",
   "execution_count": null,
   "metadata": {
    "pycharm": {
     "name": "#%%\n"
    }
   },
   "outputs": [],
   "source": [
    "IBMQ.load_account()\n",
    "PROVIDER = IBMQ.get_provider(hub='ibm-q-research', group='hu-berlin-1', project='main')\n",
    "PROVIDER.backends()\n",
    "BACKEND_HARDWARE = FakeVigo()\n",
    "BACKEND_SIMULATOR = PROVIDER.get_backend(SIMULATOR)"
   ]
  },
  {
   "cell_type": "markdown",
   "source": [
    "### Define experiments\n",
    "The experiment below uses a square Z2 plaquette with g=1.0 and analyzes the time evolution with a value of t between 0 and 2 in increments of 0.2. It uses zne extrapolation (via Mitiq) and three scale factors."
   ],
   "metadata": {
    "collapsed": false,
    "pycharm": {
     "name": "#%% md\n"
    }
   }
  },
  {
   "cell_type": "code",
   "execution_count": null,
   "metadata": {
    "pycharm": {
     "name": "#%%\n"
    }
   },
   "outputs": [],
   "source": [
    "time_vector = np.arange(0, 2, 0.2)\n",
    "physical_model = PhysicalModel(number_links=4, gauge=Groups.U1, coupling=2.0)\n",
    "print(physical_model)\n",
    "\n",
    "experiment_configuration = ExperimentConfiguration(zne_extrapolation=True,\n",
    "                                                   scale_factors=[1.0, 1.2, 1.5, 1.8, 2.0],\n",
    "                                                   num_replicas=2)\n",
    "print(experiment_configuration)\n",
    "\n",
    "run_configuration_simulator = RunConfiguration(time_vector=time_vector,\n",
    "                                               backend=BACKEND_SIMULATOR)\n",
    "\n",
    "print(run_configuration_simulator)"
   ]
  },
  {
   "cell_type": "markdown",
   "source": [
    "## Run experiments"
   ],
   "metadata": {
    "collapsed": false,
    "pycharm": {
     "name": "#%% md\n"
    }
   }
  },
  {
   "cell_type": "code",
   "execution_count": null,
   "outputs": [],
   "source": [
    "job_manager_sim, hpc_sim_job_id, circuits_sim = run_circuits(physical_model, experiment_configuration, run_configuration_simulator)"
   ],
   "metadata": {
    "collapsed": false,
    "pycharm": {
     "name": "#%%\n"
    }
   }
  },
  {
   "cell_type": "code",
   "metadata": {
    "pycharm": {
     "name": "#%%\n"
    }
   },
   "source": [
    "hpc_res_job = job_manager_sim.retrieve_job_set(job_set_id=hpc_sim_job_id, provider=PROVIDER)"
   ],
   "execution_count": null,
   "outputs": []
  },
  {
   "cell_type": "code",
   "execution_count": null,
   "metadata": {
    "pycharm": {
     "name": "#%%\n"
    }
   },
   "outputs": [],
   "source": [
    "hpc_res_job.statuses()"
   ]
  },
  {
   "cell_type": "markdown",
   "source": [
    "#### Retrieve experiments results"
   ],
   "metadata": {
    "collapsed": false,
    "pycharm": {
     "name": "#%% md\n"
    }
   }
  },
  {
   "cell_type": "code",
   "execution_count": null,
   "metadata": {
    "pycharm": {
     "name": "#%%\n"
    }
   },
   "outputs": [],
   "source": [
    "hpc_res_sim = hpc_res_job.results()"
   ]
  },
  {
   "cell_type": "markdown",
   "source": [
    "The next cell saves the count results from the experiment so they can be recovered later if necessary."
   ],
   "metadata": {
    "collapsed": false,
    "pycharm": {
     "name": "#%% md\n"
    }
   }
  },
  {
   "cell_type": "code",
   "execution_count": null,
   "metadata": {
    "pycharm": {
     "name": "#%%\n"
    }
   },
   "outputs": [],
   "source": [
    "import pickle\n",
    "\n",
    "pickle.dump([hpc_res_sim.get_counts(i) for i in range(len(time_vector))], open(\"exp_result_counts.pickle\", 'wb'))"
   ]
  },
  {
   "cell_type": "markdown",
   "source": [
    "### Build ignis error filter\n",
    "The ignis package is used for output error mitigation. It is useful for circuits with a small number of qubits (n) as the ones used for the single plaquette. The cell below executes the 2^n experiments necessary to perform output error mitigation."
   ],
   "metadata": {
    "collapsed": false,
    "pycharm": {
     "name": "#%% md\n"
    }
   }
  },
  {
   "cell_type": "code",
   "execution_count": null,
   "metadata": {
    "pycharm": {
     "name": "#%%\n"
    }
   },
   "outputs": [],
   "source": [
    "ignis_err_corr = IgnisErrorMitigation(n_qubits=5, shots=1000)\n",
    "meas_filter = ignis_err_corr.get_meas_fitter(backend=BACKEND_SIMULATOR)"
   ]
  },
  {
   "cell_type": "markdown",
   "source": [
    "### Analyze results from the experiments\n",
    "\n",
    "The result is a dataframe with the measurements of all observables based on the experiment configurations"
   ],
   "metadata": {
    "collapsed": false
   }
  },
  {
   "cell_type": "code",
   "execution_count": null,
   "metadata": {
    "pycharm": {
     "name": "#%%\n"
    }
   },
   "outputs": [],
   "source": [
    "results_df = analyze_results(physical_model, experiment_configuration, run_configuration_simulator, result_hpc=hpc_res_sim, meas_filter=meas_filter)"
   ]
  },
  {
   "cell_type": "code",
   "execution_count": null,
   "outputs": [],
   "source": [
    "results_df.head()"
   ],
   "metadata": {
    "collapsed": false,
    "pycharm": {
     "name": "#%%\n"
    }
   }
  },
  {
   "cell_type": "markdown",
   "source": [
    "### Run experiments using custom error correction.\n",
    "Only probability density observable is supported when using custom error correction.\n"
   ],
   "metadata": {
    "collapsed": false,
    "pycharm": {
     "name": "#%% md\n"
    }
   }
  },
  {
   "cell_type": "code",
   "execution_count": null,
   "metadata": {
    "pycharm": {
     "name": "#%%\n"
    }
   },
   "outputs": [],
   "source": [
    "error_correction = CustomErrorMitigation(n_qubits=5, shots=1000)\n",
    "error_correction = error_correction.build_probability_matrix(backend=BACKEND_HARDWARE)"
   ]
  },
  {
   "cell_type": "code",
   "execution_count": null,
   "outputs": [],
   "source": [
    "results_df_custom = analyze_results(physical_model, experiment_configuration, run_configuration_simulator, result_hpc=hpc_res_sim, ignis=False, mitigated_counts=error_correction)"
   ],
   "metadata": {
    "collapsed": false,
    "pycharm": {
     "name": "#%%\n"
    }
   }
  },
  {
   "cell_type": "markdown",
   "source": [
    "## Analyze experiments"
   ],
   "metadata": {
    "collapsed": false,
    "pycharm": {
     "name": "#%% md\n"
    }
   }
  },
  {
   "cell_type": "markdown",
   "source": [
    "### Plot time evolution"
   ],
   "metadata": {
    "collapsed": false,
    "pycharm": {
     "name": "#%% md\n"
    }
   }
  },
  {
   "cell_type": "code",
   "execution_count": null,
   "outputs": [],
   "source": [
    "from src.plotting.time_evolution import plot_time_evolution\n",
    "\n",
    "plot_time_evolution(df_results=results_df)"
   ],
   "metadata": {
    "collapsed": false,
    "pycharm": {
     "name": "#%%\n",
     "is_executing": true
    }
   }
  }
 ],
 "metadata": {
  "kernelspec": {
   "display_name": "Python 3",
   "language": "python",
   "name": "python3"
  },
  "language_info": {
   "codemirror_mode": {
    "name": "ipython",
    "version": 3
   },
   "file_extension": ".py",
   "mimetype": "text/x-python",
   "name": "python",
   "nbconvert_exporter": "python",
   "pygments_lexer": "ipython3",
   "version": "3.8.10"
  }
 },
 "nbformat": 4,
 "nbformat_minor": 1
}