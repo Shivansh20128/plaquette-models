{
 "cells": [
  {
   "cell_type": "markdown",
   "metadata": {
    "collapsed": true,
    "pycharm": {
     "name": "#%% md\n"
    }
   },
   "source": [
    "# Generate circuits"
   ]
  },
  {
   "cell_type": "markdown",
   "source": [
    "### Load packages"
   ],
   "metadata": {
    "collapsed": false,
    "pycharm": {
     "name": "#%% md\n"
    }
   }
  },
  {
   "cell_type": "code",
   "execution_count": null,
   "outputs": [],
   "source": [
    "from qiskit import IBMQ\n",
    "from qiskit.test.mock import FakeVigo\n",
    "\n",
    "from analysis.constants import SIMULATOR\n",
    "from models.circuits import SinglePlaquette"
   ],
   "metadata": {
    "collapsed": false,
    "pycharm": {
     "name": "#%%\n"
    }
   }
  },
  {
   "cell_type": "markdown",
   "source": [
    "### Load account"
   ],
   "metadata": {
    "collapsed": false,
    "pycharm": {
     "name": "#%% md\n"
    }
   }
  },
  {
   "cell_type": "code",
   "execution_count": null,
   "outputs": [],
   "source": [
    "IBMQ.load_account()\n",
    "PROVIDER = IBMQ.get_provider(hub='ibm-q-research', group='hu-berlin-1', project='main')\n",
    "PROVIDER.backends()\n",
    "BACKEND_HARDWARE = FakeVigo()\n",
    "BACKEND_SIMULATOR = PROVIDER.get_backend(SIMULATOR)"
   ],
   "metadata": {
    "collapsed": false,
    "pycharm": {
     "name": "#%%\n"
    }
   }
  },
  {
   "cell_type": "code",
   "execution_count": null,
   "outputs": [],
   "source": [
    "z2_plaquette = SinglePlaquette(n_qubits=5)\n",
    "z2_plaquette = z2_plaquette.generate_circuit(q_control=1)\n",
    "z2_plaquette.draw()"
   ],
   "metadata": {
    "collapsed": false,
    "pycharm": {
     "name": "#%%\n"
    }
   }
  }
 ],
 "metadata": {
  "kernelspec": {
   "display_name": "Python 3",
   "language": "python",
   "name": "python3"
  },
  "language_info": {
   "codemirror_mode": {
    "name": "ipython",
    "version": 2
   },
   "file_extension": ".py",
   "mimetype": "text/x-python",
   "name": "python",
   "nbconvert_exporter": "python",
   "pygments_lexer": "ipython2",
   "version": "2.7.6"
  }
 },
 "nbformat": 4,
 "nbformat_minor": 0
}