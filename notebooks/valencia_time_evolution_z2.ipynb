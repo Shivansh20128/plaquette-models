{
 "cells": [
  {
   "cell_type": "code",
   "execution_count": 1,
   "metadata": {
    "collapsed": true
   },
   "outputs": [],
   "source": [
    "import matplotlib.pyplot as plt\n",
    "import numpy as np\n",
    "from qiskit import IBMQ\n",
    "from qiskit.test.mock import FakeVigo\n",
    "\n",
    "from analysis.analysis import run_circuits, analyze_results, analyze_results_ignis\n",
    "from analysis.constants import SIMULATOR\n",
    "from analysis.error_correction import CustomErrorCorrection, IgnisErrorCorrection\n",
    "from models.circuits import SinglePlaquette\n",
    "from models.constants import Groups"
   ]
  },
  {
   "cell_type": "code",
   "execution_count": 2,
   "metadata": {
    "pycharm": {
     "name": "#%%\n"
    }
   },
   "outputs": [],
   "source": [
    "IBMQ.load_account()\n",
    "PROVIDER = IBMQ.get_provider(hub='ibm-q-research', group='hu-berlin-1', project='main')\n",
    "PROVIDER.backends()\n",
    "BACKEND_HARDWARE = FakeVigo()\n",
    "BACKEND_SIMULATOR = PROVIDER.get_backend(SIMULATOR)"
   ]
  },
  {
   "cell_type": "code",
   "execution_count": 3,
   "metadata": {
    "pycharm": {
     "name": "#%%\n"
    }
   },
   "outputs": [
    {
     "name": "stderr",
     "output_type": "stream",
     "text": [
      "/home/miguel/Documents/WORK/Research/plaquette-models/venv/lib/python3.8/site-packages/qiskit/circuit/quantumcircuit.py:869: DeprecationWarning: The QuantumCircuit.combine() method is being deprecated. Use the compose() method which is more flexible w.r.t circuit register compatibility.\n",
      "  return self.combine(rhs)\n"
     ]
    },
    {
     "data": {
      "text/html": [
       "<pre style=\"word-wrap: normal;white-space: pre;background: #fff0;line-height: 1.1;font-family: &quot;Courier New&quot;,Courier,monospace\">     ┌───┐   ┌───┐┌─────┐                                                     »\n",
       "q_0: ┤ H ├─■─┤ S ├┤ SDG ├─────────────────────────────────────────────────────»\n",
       "     ├───┤ │ ├───┤└─────┘┌───┐    ┌───┐     ┌───┐  ┌───┐ ┌───────┐┌───┐┌─────┐»\n",
       "q_1: ┤ H ├─■─┤ S ├───■───┤ S ├─■──┤ S ├──■──┤ S ├──┤ H ├─┤ U1(2) ├┤ H ├┤ SDG ├»\n",
       "     ├───┤   └───┘   │   ├───┤ │ ┌┴───┴┐ │  └───┘  └───┘ └───────┘└───┘└─────┘»\n",
       "q_2: ┤ H ├───────────■───┤ S ├─┼─┤ SDG ├─┼────────────────────────────────────»\n",
       "     ├───┤               └───┘ │ └┬───┬┘ │ ┌─────┐                            »\n",
       "q_3: ┤ H ├─────────────────────■──┤ S ├──┼─┤ SDG ├────────────────────────────»\n",
       "     ├───┤                        └───┘  │ └┬───┬┘┌─────┐                     »\n",
       "q_4: ┤ H ├───────────────────────────────■──┤ S ├─┤ SDG ├─────────────────────»\n",
       "     └───┘                                  └───┘ └─────┘                     »\n",
       "c: 5/═════════════════════════════════════════════════════════════════════════»\n",
       "                                                                              »\n",
       "«                                      ┌───┐ ░ ┌─┐            \n",
       "«q_0: ───────────────────────────────■─┤ H ├─░─┤M├────────────\n",
       "«        ┌─────┐   ┌─────┐   ┌─────┐ │ ├───┤ ░ └╥┘┌─┐         \n",
       "«q_1: ─■─┤ SDG ├─■─┤ SDG ├─■─┤ SDG ├─■─┤ H ├─░──╫─┤M├─────────\n",
       "«      │ └─────┘ │ └─────┘ │ └┬───┬┘   └───┘ ░  ║ └╥┘┌─┐      \n",
       "«q_2: ─┼─────────┼─────────■──┤ H ├──────────░──╫──╫─┤M├──────\n",
       "«      │         │  ┌───┐     └───┘          ░  ║  ║ └╥┘┌─┐   \n",
       "«q_3: ─┼─────────■──┤ H ├────────────────────░──╫──╫──╫─┤M├───\n",
       "«      │  ┌───┐     └───┘                    ░  ║  ║  ║ └╥┘┌─┐\n",
       "«q_4: ─■──┤ H ├──────────────────────────────░──╫──╫──╫──╫─┤M├\n",
       "«         └───┘                              ░  ║  ║  ║  ║ └╥┘\n",
       "«c: 5/══════════════════════════════════════════╩══╩══╩══╩══╩═\n",
       "«                                               0  1  2  3  4 </pre>"
      ],
      "text/plain": [
       "     ┌───┐   ┌───┐┌─────┐                                                     »\n",
       "q_0: ┤ H ├─■─┤ S ├┤ SDG ├─────────────────────────────────────────────────────»\n",
       "     ├───┤ │ ├───┤└─────┘┌───┐    ┌───┐     ┌───┐  ┌───┐ ┌───────┐┌───┐┌─────┐»\n",
       "q_1: ┤ H ├─■─┤ S ├───■───┤ S ├─■──┤ S ├──■──┤ S ├──┤ H ├─┤ U1(2) ├┤ H ├┤ SDG ├»\n",
       "     ├───┤   └───┘   │   ├───┤ │ ┌┴───┴┐ │  └───┘  └───┘ └───────┘└───┘└─────┘»\n",
       "q_2: ┤ H ├───────────■───┤ S ├─┼─┤ SDG ├─┼────────────────────────────────────»\n",
       "     ├───┤               └───┘ │ └┬───┬┘ │ ┌─────┐                            »\n",
       "q_3: ┤ H ├─────────────────────■──┤ S ├──┼─┤ SDG ├────────────────────────────»\n",
       "     ├───┤                        └───┘  │ └┬───┬┘┌─────┐                     »\n",
       "q_4: ┤ H ├───────────────────────────────■──┤ S ├─┤ SDG ├─────────────────────»\n",
       "     └───┘                                  └───┘ └─────┘                     »\n",
       "c: 5/═════════════════════════════════════════════════════════════════════════»\n",
       "                                                                              »\n",
       "«                                      ┌───┐ ░ ┌─┐            \n",
       "«q_0: ───────────────────────────────■─┤ H ├─░─┤M├────────────\n",
       "«        ┌─────┐   ┌─────┐   ┌─────┐ │ ├───┤ ░ └╥┘┌─┐         \n",
       "«q_1: ─■─┤ SDG ├─■─┤ SDG ├─■─┤ SDG ├─■─┤ H ├─░──╫─┤M├─────────\n",
       "«      │ └─────┘ │ └─────┘ │ └┬───┬┘   └───┘ ░  ║ └╥┘┌─┐      \n",
       "«q_2: ─┼─────────┼─────────■──┤ H ├──────────░──╫──╫─┤M├──────\n",
       "«      │         │  ┌───┐     └───┘          ░  ║  ║ └╥┘┌─┐   \n",
       "«q_3: ─┼─────────■──┤ H ├────────────────────░──╫──╫──╫─┤M├───\n",
       "«      │  ┌───┐     └───┘                    ░  ║  ║  ║ └╥┘┌─┐\n",
       "«q_4: ─■──┤ H ├──────────────────────────────░──╫──╫──╫──╫─┤M├\n",
       "«         └───┘                              ░  ║  ║  ║  ║ └╥┘\n",
       "«c: 5/══════════════════════════════════════════╩══╩══╩══╩══╩═\n",
       "«                                               0  1  2  3  4 "
      ]
     },
     "execution_count": 3,
     "metadata": {},
     "output_type": "execute_result"
    }
   ],
   "source": [
    "z2_plaquette = SinglePlaquette(n_qubits=5)\n",
    "z2_plaquette = z2_plaquette.generate_circuit(q_control=1)\n",
    "z2_plaquette.draw()"
   ]
  },
  {
   "cell_type": "code",
   "execution_count": 3,
   "metadata": {
    "pycharm": {
     "name": "#%%\n"
    }
   },
   "outputs": [
    {
     "name": "stderr",
     "output_type": "stream",
     "text": [
      "/home/miguel/Documents/WORK/Research/plaquette-models/venv/lib/python3.8/site-packages/qiskit/circuit/quantumcircuit.py:869: DeprecationWarning: The QuantumCircuit.combine() method is being deprecated. Use the compose() method which is more flexible w.r.t circuit register compatibility.\n",
      "  return self.combine(rhs)\n"
     ]
    }
   ],
   "source": [
    "time_vector = np.arange(1, 2, 0.2)\n",
    "hpc_res, circuits = run_circuits(number_links=4, backend=BACKEND_HARDWARE, time_vector=time_vector)\n",
    "hpc_res_sim, circuits_sim = run_circuits(number_links=4, backend=BACKEND_SIMULATOR, time_vector=time_vector)"
   ]
  },
  {
   "cell_type": "code",
   "execution_count": 5,
   "metadata": {
    "pycharm": {
     "name": "#%%\n"
    }
   },
   "outputs": [],
   "source": [
    "natural_count_sim, _ = analyze_results(number_links=4, result_hpc=hpc_res_sim, time_vector=time_vector,\n",
    "                                       circuits=circuits_sim)"
   ]
  },
  {
   "cell_type": "code",
   "execution_count": 6,
   "metadata": {
    "pycharm": {
     "name": "#%%\n"
    }
   },
   "outputs": [],
   "source": [
    "error_correction = CustomErrorCorrection(n_qubits=5, shots=1000)\n",
    "error_correction = error_correction.build_probability_matrix(backend=BACKEND_HARDWARE)\n",
    "\n",
    "natural_count, corrected_count = analyze_results(number_links=4, result_hpc=hpc_res, time_vector=time_vector,\n",
    "                                                 circuits=circuits, output_correction=error_correction)"
   ]
  },
  {
   "cell_type": "code",
   "execution_count": 11,
   "metadata": {
    "pycharm": {
     "name": "#%%\n"
    }
   },
   "outputs": [],
   "source": [
    "ignis_err_corr = IgnisErrorCorrection(n_qubits=5, shots=1000)\n",
    "meas_filter = ignis_err_corr.get_meas_fitter(backend=BACKEND_HARDWARE)\n",
    "_, corrected_count_ignis = analyze_results_ignis(number_links=4, result_hpc=hpc_res, time_vector=time_vector,\n",
    "                                                 circuits=circuits, result_key='11111',\n",
    "                                                 meas_filter=meas_filter)"
   ]
  },
  {
   "cell_type": "code",
   "execution_count": null,
   "metadata": {
    "pycharm": {
     "name": "#%%\n"
    }
   },
   "outputs": [],
   "source": [
    "plt.plot(time_vector, natural_count_sim, label='simulator')\n",
    "plt.plot(time_vector, corrected_count, label='corrected custom')\n",
    "plt.plot(time_vector, corrected_count, label='corrected ignis')\n",
    "plt.plot(time_vector, natural_count, label='natural')\n",
    "plt.legend()\n",
    "\n"
   ]
  },
  {
   "cell_type": "code",
   "execution_count": 3,
   "metadata": {
    "pycharm": {
     "name": "#%%\n"
    }
   },
   "outputs": [
    {
     "name": "stderr",
     "output_type": "stream",
     "text": [
      "/home/miguel/Documents/WORK/Research/plaquette-models/venv/lib/python3.8/site-packages/qiskit/circuit/quantumcircuit.py:869: DeprecationWarning: The QuantumCircuit.combine() method is being deprecated. Use the compose() method which is more flexible w.r.t circuit register compatibility.\n",
      "  return self.combine(rhs)\n"
     ]
    }
   ],
   "source": [
    "model_to_run = {\n",
    "    'plaquette': SinglePlaquette,\n",
    "    'gauge_group': Groups.U1,\n",
    "}\n",
    "\n",
    "hpc_res_sim, circuits_sim = run_circuits(3, 1.0, np.arange(1, 2, 0.2), backend=BACKEND_SIMULATOR, model=model_to_run)"
   ]
  },
  {
   "cell_type": "code",
   "execution_count": 4,
   "metadata": {
    "pycharm": {
     "name": "#%%\n"
    }
   },
   "outputs": [],
   "source": [
    "natural_count_sim, _ = analyze_results(number_links=3, result_hpc=hpc_res_sim, time_vector=list(np.arange(1, 2, 0.2)),\n",
    "                                       circuits=circuits_sim)"
   ]
  },
  {
   "cell_type": "code",
   "execution_count": 5,
   "metadata": {
    "pycharm": {
     "name": "#%%\n"
    }
   },
   "outputs": [
    {
     "data": {
      "text/plain": [
       "[<matplotlib.lines.Line2D at 0x7feae0a10850>]"
      ]
     },
     "execution_count": 5,
     "metadata": {},
     "output_type": "execute_result"
    },
    {
     "data": {
      "image/png": "[encoded data removed]",
      "text/plain": [
       "<Figure size 432x288 with 1 Axes>"
      ]
     },
     "metadata": {
      "needs_background": "light"
     },
     "output_type": "display_data"
    }
   ],
   "source": [
    "plt.plot(np.arange(1, 2, 0.2), natural_count_sim)"
   ]
  },
  {
   "cell_type": "code",
   "execution_count": 4,
   "outputs": [
    {
     "name": "stdout",
     "output_type": "stream",
     "text": [
      "Square\n",
      "Square\n",
      "Square\n",
      "Square\n",
      "Square\n",
      "Square\n",
      "Square\n",
      "Square\n",
      "Square\n",
      "Square\n",
      "Square\n",
      "Square\n",
      "Square\n",
      "Square\n",
      "Square\n"
     ]
    }
   ],
   "source": [
    "model_to_run = {\n",
    "    'plaquette': SinglePlaquette,\n",
    "    'gauge_group': Groups.U1,\n",
    "}\n",
    "\n",
    "hpc_res_sim, circuits_sim = run_circuits(4, 1.0, np.arange(1, 4, 0.2), backend=BACKEND_SIMULATOR, model=model_to_run)"
   ],
   "metadata": {
    "collapsed": false,
    "pycharm": {
     "name": "#%%\n"
    }
   }
  },
  {
   "cell_type": "code",
   "execution_count": 26,
   "outputs": [],
   "source": [
    "time_vector = np.arange(1, 4, 0.2)\n",
    "natural_count_sim_3, _ = analyze_results(number_links=3, result_hpc=hpc_res_sim, time_vector=time_vector,\n",
    "                                       circuits=circuits_sim)"
   ],
   "metadata": {
    "collapsed": false,
    "pycharm": {
     "name": "#%%\n"
    }
   }
  },
  {
   "cell_type": "code",
   "execution_count": 27,
   "outputs": [
    {
     "data": {
      "text/plain": "[<matplotlib.lines.Line2D at 0x7f99ed5ef550>]"
     },
     "execution_count": 27,
     "metadata": {},
     "output_type": "execute_result"
    },
    {
     "data": {
      "text/plain": "<Figure size 432x288 with 1 Axes>",
      "image/png": "[encoded data removed]"
     },
     "metadata": {
      "needs_background": "light"
     },
     "output_type": "display_data"
    }
   ],
   "source": [
    "plt.plot(np.arange(1, 4, 0.2), natural_count_sim)\n",
    "plt.plot(np.arange(1, 4, 0.2), natural_count_sim_3)"
   ],
   "metadata": {
    "collapsed": false,
    "pycharm": {
     "name": "#%%\n"
    }
   }
  }
 ],
 "metadata": {
  "kernelspec": {
   "display_name": "Python 3",
   "language": "python",
   "name": "python3"
  },
  "language_info": {
   "codemirror_mode": {
    "name": "ipython",
    "version": 3
   },
   "file_extension": ".py",
   "mimetype": "text/x-python",
   "name": "python",
   "nbconvert_exporter": "python",
   "pygments_lexer": "ipython3",
   "version": "3.8.5"
  }
 },
 "nbformat": 4,
 "nbformat_minor": 1
}